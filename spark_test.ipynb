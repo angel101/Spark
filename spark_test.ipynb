{
 "cells": [
  {
   "cell_type": "code",
   "execution_count": 1,
   "metadata": {},
   "outputs": [
    {
     "name": "stdout",
     "output_type": "stream",
     "text": [
      "+--------+-------+--------+-----+\n",
      "| Invoice|Product|Quantity|Price|\n",
      "+--------+-------+--------+-----+\n",
      "|01069586|   Peas|     1.1| 0.33|\n",
      "+--------+-------+--------+-----+\n",
      "only showing top 1 row\n",
      "\n",
      "+--------+----------+--------+--------+\n",
      "| Invoice|      Date|Customer|   Store|\n",
      "+--------+----------+--------+--------+\n",
      "|01069586|1996-11-28|   03200|Carlisle|\n",
      "+--------+----------+--------+--------+\n",
      "only showing top 1 row\n",
      "\n",
      "+----+-------+-----+----+\n",
      "|cost|   name|price|unit|\n",
      "+----+-------+-----+----+\n",
      "|0.08|Tomatos| 0.15|  kg|\n",
      "+----+-------+-----+----+\n",
      "only showing top 1 row\n",
      "\n",
      "+--------+\n",
      "|    name|\n",
      "+--------+\n",
      "|Aberdeen|\n",
      "+--------+\n",
      "only showing top 1 row\n",
      "\n",
      "done  import datasets\n"
     ]
    }
   ],
   "source": [
    "import pyspark\n",
    "sc = SparkContext.getOrCreate()\n",
    "\n",
    "\n",
    "dfDetails = spark.read.csv(\n",
    "    \"details.csv\", header=True, mode=\"DROPMALFORMED\",sep  = \",\"\n",
    ")\n",
    "dfDetails.show(1)\n",
    "\n",
    "dfInvoices = spark.read.csv(\n",
    "    \"invoices.csv\", header=True, mode=\"DROPMALFORMED\",sep  = \",\"\n",
    ")\n",
    "dfInvoices.show(1)\n",
    "\n",
    "dfProduct = spark.read.json(\n",
    "    \"products.json\"\n",
    ")\n",
    "dfProduct.show(1)\n",
    "\n",
    "dfStore = spark.read.json(\n",
    "    \"stores.json\"\n",
    ")\n",
    "dfStore.show(1)\n",
    "\n",
    "\n",
    "\n",
    "\n",
    "\n",
    "print('done  import datasets')"
   ]
  },
  {
   "cell_type": "code",
   "execution_count": 2,
   "metadata": {},
   "outputs": [
    {
     "name": "stdout",
     "output_type": "stream",
     "text": [
      "+--------+-----------+--------+----+-----------+-----+------+--------------------+\n",
      "| Invoice|    Product|Quantity|cost|       name|price|  unit|                diff|\n",
      "+--------+-----------+--------+----+-----------+-----+------+--------------------+\n",
      "|01069586|       Peas|     1.1|0.16|       Peas|  0.3|    kg|               0.154|\n",
      "|01069586|       Tuna|       5|0.63|       Tuna|  1.0|   can|                1.85|\n",
      "|07088623|     Grapes|    0.94|0.28|     Grapes| 0.46|    kg|              0.1692|\n",
      "|07088623|    Raisins|       1|0.23|    Raisins| 0.45|    kg|                0.22|\n",
      "|07088623|   Sausages|     0.5| 1.8|   Sausages|  2.4|    kg| 0.29999999999999993|\n",
      "|07088623|      Pears|    1.83|0.24|      Pears| 0.33|    kg| 0.16470000000000004|\n",
      "|07088623|    Lettuce|    4.22|0.86|    Lettuce| 1.25|    kg|              1.6458|\n",
      "|07088623|Cooking Oil|     1.0|0.73|Cooking Oil|  1.2|liters|                0.47|\n",
      "|08083256|       Tuna|       2|0.63|       Tuna|  1.0|   can|                0.74|\n",
      "|08083256|       Pork|    3.71|1.01|       Pork|  1.9|    kg|  3.3018999999999994|\n",
      "|08083256|     Cheese|     1.5|1.19|     Cheese|  1.9|    kg|               1.065|\n",
      "|08083256|    Potatos|    1.04|0.09|    Potatos| 0.12|    kg|              0.0312|\n",
      "|08083256|     Apples|    0.58|0.16|     Apples|  0.3|    kg| 0.08119999999999998|\n",
      "|08083256|    Tomatos|     0.8|0.08|    Tomatos| 0.15|    kg|0.055999999999999994|\n",
      "|08083256|   Crackers|       1|0.42|   Crackers|  0.7|  pack| 0.27999999999999997|\n",
      "|08083256|  Mushrooms|    0.66|1.69|  Mushrooms|  2.3|    kg| 0.40259999999999996|\n",
      "|02021420|    Shampoo|       2|1.98|    Shampoo| 3.11|bottle|                2.26|\n",
      "|02021420|       Beer|      12|0.88|       Beer|  1.5|   can|  7.4399999999999995|\n",
      "|07034144| Toothpaste|       2| 0.6| Toothpaste|  0.8|  unit| 0.40000000000000013|\n",
      "|07034144|       Corn|     0.8|0.11|       Corn|  0.2|    kg| 0.07200000000000001|\n",
      "+--------+-----------+--------+----+-----------+-----+------+--------------------+\n",
      "only showing top 20 rows\n",
      "\n"
     ]
    }
   ],
   "source": [
    "import pyspark.sql.functions as fn\n",
    "\n",
    "\n",
    "\n",
    "dfProfit = dfDetails.join(dfProduct, dfDetails.Product == dfProduct.name, how='left').drop(dfDetails.Price)\n",
    "\n",
    "dfProfit.withColumn('diff', (fn.col('price')-fn.col('cost'))*fn.col('Quantity')).show()\n",
    "\n",
    "\n",
    "\n"
   ]
  },
  {
   "cell_type": "code",
   "execution_count": 3,
   "metadata": {},
   "outputs": [
    {
     "name": "stdout",
     "output_type": "stream",
     "text": [
      "+--------+------------------+\n",
      "| Invoice|             total|\n",
      "+--------+------------------+\n",
      "|01017570|28.699999999999996|\n",
      "|01046160|12.649999999999999|\n",
      "+--------+------------------+\n",
      "only showing top 2 rows\n",
      "\n"
     ]
    }
   ],
   "source": [
    "dfTotals = dfInvoices.join(dfDetails, dfInvoices.Invoice == dfDetails.Invoice, how=\"left\").drop(dfDetails.Invoice)\n",
    "\n",
    "dfTotals = dfTotals.groupby('Invoice').agg(fn.sum('Price').alias('total'))\n",
    "\n",
    "dfTotals.show(2)"
   ]
  },
  {
   "cell_type": "code",
   "execution_count": 4,
   "metadata": {},
   "outputs": [
    {
     "name": "stdout",
     "output_type": "stream",
     "text": [
      "+--------+------------------+\n",
      "| Invoice|             total|\n",
      "+--------+------------------+\n",
      "|08001410|            273.06|\n",
      "|03022748|             242.6|\n",
      "|02065806|199.00000000000003|\n",
      "|04038373|194.57999999999998|\n",
      "|01002195|            182.16|\n",
      "|00016021|             181.3|\n",
      "|00046997|             173.7|\n",
      "|07007638|173.42000000000002|\n",
      "|10047557|170.47000000000003|\n",
      "|06013374|            170.26|\n",
      "|03093846|            168.48|\n",
      "|02014749|            167.09|\n",
      "|05066742|            166.73|\n",
      "|03094271|             165.7|\n",
      "|01023743|165.04999999999998|\n",
      "|06059247|            164.97|\n",
      "|04055805|            164.06|\n",
      "|00025887|            163.85|\n",
      "|05042782|163.59000000000003|\n",
      "|07077425|            161.35|\n",
      "+--------+------------------+\n",
      "only showing top 20 rows\n",
      "\n"
     ]
    }
   ],
   "source": [
    "dfTotals.sort(fn.col('total'), ascending=False).show()"
   ]
  },
  {
   "cell_type": "code",
   "execution_count": 5,
   "metadata": {},
   "outputs": [
    {
     "name": "stdout",
     "output_type": "stream",
     "text": [
      "+----+-------+----+--------+-------+--------+-----+\n",
      "|cost|   name|unit| Invoice|Product|Quantity|Price|\n",
      "+----+-------+----+--------+-------+--------+-----+\n",
      "|0.08|Tomatos|  kg|10049060|Tomatos|     2.7| 0.41|\n",
      "+----+-------+----+--------+-------+--------+-----+\n",
      "only showing top 1 row\n",
      "\n",
      "+-------+------------------+\n",
      "|   name|        total_sold|\n",
      "+-------+------------------+\n",
      "|Peaches|1616.4699999999998|\n",
      "+-------+------------------+\n",
      "only showing top 1 row\n",
      "\n",
      "+-------+------------------+\n",
      "|   name|        net_profit|\n",
      "+-------+------------------+\n",
      "|Peaches|1519.5300000000007|\n",
      "+-------+------------------+\n",
      "only showing top 1 row\n",
      "\n",
      "+-------+------------------+-----------------+-----------------+\n",
      "|   name|               net|             cost|             diff|\n",
      "+-------+------------------+-----------------+-----------------+\n",
      "|Peaches|1519.5300000000007|667.0000000000064|852.5299999999943|\n",
      "+-------+------------------+-----------------+-----------------+\n",
      "only showing top 1 row\n",
      "\n"
     ]
    }
   ],
   "source": [
    "dfTotalSold = dfProduct.join(dfDetails, dfProduct.name == dfDetails.Product, how=\"left\").drop(dfProduct.price)\n",
    "\n",
    "dfTotalSold.show(1)\n",
    "\n",
    "quantitySold =dfTotalSold.groupby(['name']).agg(fn.sum('quantity').alias('total_sold'))\n",
    "quantitySold.show(1)\n",
    "\n",
    "netSold = dfTotalSold.groupby(['name']).agg(fn.sum('price').alias('net_profit'))\n",
    "netSold.show(1)\n",
    "\n",
    "totalSold = dfTotalSold.groupby(['name']).agg(fn.sum('price').alias('net'),fn.sum('cost').alias('cost')).withColumn('diff', fn.col('net')-fn.col('cost').alias('total proffit'))\n",
    "totalSold.show(1)"
   ]
  },
  {
   "cell_type": "code",
   "execution_count": 6,
   "metadata": {},
   "outputs": [
    {
     "name": "stdout",
     "output_type": "stream",
     "text": [
      "+-------+----------+\n",
      "|   name|total_sold|\n",
      "+-------+----------+\n",
      "|Diapers|   33160.0|\n",
      "+-------+----------+\n",
      "only showing top 1 row\n",
      "\n",
      "+-------+-----------------+------------------+-----------------+\n",
      "|   name|              net|              cost|             diff|\n",
      "+-------+-----------------+------------------+-----------------+\n",
      "|Diapers|79583.99999999975|1692.6000000000317|77891.39999999972|\n",
      "+-------+-----------------+------------------+-----------------+\n",
      "only showing top 1 row\n",
      "\n",
      "+-------+-----------------+\n",
      "|   name|       net_profit|\n",
      "+-------+-----------------+\n",
      "|Diapers|79583.99999999975|\n",
      "+-------+-----------------+\n",
      "only showing top 1 row\n",
      "\n"
     ]
    }
   ],
   "source": [
    "quantitySold.sort(fn.col('total_sold'), ascending=False ).show(1)\n",
    "\n",
    "totalSold.sort(fn.col('diff'), ascending=False).show(1)\n",
    "\n",
    "netSold.sort(fn.col('net_profit'),ascending=False).show(1)"
   ]
  },
  {
   "cell_type": "code",
   "execution_count": 7,
   "metadata": {},
   "outputs": [
    {
     "name": "stdout",
     "output_type": "stream",
     "text": [
      "+--------+--------+----------+--------+--------+--------+-------+--------+-----+\n",
      "|    name| Invoice|      Date|Customer|   Store| Invoice|Product|Quantity|Price|\n",
      "+--------+--------+----------+--------+--------+--------+-------+--------+-----+\n",
      "|Aberdeen|08033512|1996-11-29|   01554|Aberdeen|08033512|  Pears|    2.26| 0.75|\n",
      "+--------+--------+----------+--------+--------+--------+-------+--------+-----+\n",
      "only showing top 1 row\n",
      "\n",
      "+-------+------------------+\n",
      "|  Store|        total_sold|\n",
      "+-------+------------------+\n",
      "|Swansea|11644.710000000006|\n",
      "+-------+------------------+\n",
      "only showing top 1 row\n",
      "\n",
      "+-------+------------------+------------------+-----------------+\n",
      "|  Store|        total_sold|              cost|             diff|\n",
      "+-------+------------------+------------------+-----------------+\n",
      "|Swansea|11644.710000000006|1823.0499999999874|9821.660000000018|\n",
      "+-------+------------------+------------------+-----------------+\n",
      "only showing top 1 row\n",
      "\n"
     ]
    }
   ],
   "source": [
    "dfStoresJoined = dfStore.join(dfInvoices, dfStore.name == dfInvoices.Store, how = \"left\")\n",
    "\n",
    "dfStoresJoined = dfStoresJoined.join(dfDetails, dfStoresJoined.Invoice == dfDetails.Invoice)\n",
    "\n",
    "dfStoresJoined.show(1)\n",
    "\n",
    "dfStoresJoined.groupBy(['Store']).agg(fn.sum('Price').alias('total_sold')).sort(fn.col('total_sold'), asending=False).show(1)\n",
    "\n",
    "dfStoresJoined = dfStoresJoined.join(dfProduct, dfStoresJoined.Product == dfProduct.name, how = \"left\").drop(dfProduct.price)\n",
    "\n",
    "dfStoresJoined.groupBy(['Store']).agg(fn.sum('price').alias('total_sold'), fn.sum('cost').alias('cost')).withColumn('diff', fn.col('Total_sold')-fn.col('cost').alias('total proffit')).sort(fn.col('diff'),asending=False).show(1)"
   ]
  },
  {
   "cell_type": "code",
   "execution_count": 8,
   "metadata": {},
   "outputs": [
    {
     "name": "stdout",
     "output_type": "stream",
     "text": [
      "+-------+-------+----+\n",
      "|  Store|Product|cant|\n",
      "+-------+-------+----+\n",
      "|Grimsby|   Peas|  69|\n",
      "+-------+-------+----+\n",
      "only showing top 1 row\n",
      "\n"
     ]
    }
   ],
   "source": [
    "dfStoreList = dfStore.join(dfInvoices, dfStore.name == dfInvoices.Store)\n",
    "\n",
    "dfStoreList = dfStoreList.join(dfDetails, dfStoreList.Invoice == dfDetails.Invoice)\n",
    "\n",
    "\n",
    "dfStoreList = dfStoreList.groupBy(['Store','Product']).agg(fn.count('Product').alias('cant'))\n",
    "dfStoreList.show(1)"
   ]
  },
  {
   "cell_type": "code",
   "execution_count": 9,
   "metadata": {},
   "outputs": [
    {
     "name": "stdout",
     "output_type": "stream",
     "text": [
      "+--------+------------+\n",
      "|Customer|has_returned|\n",
      "+--------+------------+\n",
      "|   06660|        true|\n",
      "+--------+------------+\n",
      "only showing top 1 row\n",
      "\n"
     ]
    }
   ],
   "source": [
    "dfInvoices.groupby(['Customer']).agg(fn.when(fn.count('Customer') > 1, fn.lit(False) ).otherwise(True).alias('has_returned')).show(1)"
   ]
  },
  {
   "cell_type": "code",
   "execution_count": 10,
   "metadata": {},
   "outputs": [
    {
     "name": "stdout",
     "output_type": "stream",
     "text": [
      "+--------+------+\n",
      "|Customer|   sum|\n",
      "+--------+------+\n",
      "|   00066|296.01|\n",
      "+--------+------+\n",
      "only showing top 1 row\n",
      "\n"
     ]
    }
   ],
   "source": [
    "dfCustomerList = dfInvoices.join(dfDetails, dfInvoices.Invoice == dfDetails.Invoice).drop(dfInvoices.Invoice)\n",
    "\n",
    "dfCustomerList = dfCustomerList.groupBy(['Customer','Invoice']).agg(fn.sum('Price').alias('sum')).groupBy(['Customer']).agg(fn.sum('sum').alias('sum')).sort(fn.col('sum'),ascending=False)\n",
    "\n",
    "dfCustomerList.show(1)"
   ]
  },
  {
   "cell_type": "code",
   "execution_count": 11,
   "metadata": {},
   "outputs": [
    {
     "name": "stdout",
     "output_type": "stream",
     "text": [
      "+--------+------------------+\n",
      "|Customer|               sum|\n",
      "+--------+------------------+\n",
      "|   05531|171.98999999999998|\n",
      "+--------+------------------+\n",
      "only showing top 1 row\n",
      "\n"
     ]
    }
   ],
   "source": [
    "dfCustomerList = dfInvoices.join(dfDetails, dfInvoices.Invoice == dfDetails.Invoice).drop(dfInvoices.Invoice)\n",
    "\n",
    "\n",
    "dfCustomerList = dfCustomerList.groupBy(['Customer','Invoice']).agg(fn.sum('Quantity').alias('sum')).groupBy(['Customer']).agg(fn.sum('sum').alias('sum')).sort(fn.col('sum'),ascending=False)\n",
    "\n",
    "\n",
    "dfCustomerList.show(1)"
   ]
  }
 ],
 "metadata": {
  "kernelspec": {
   "display_name": "Python 3",
   "language": "python",
   "name": "python3"
  },
  "language_info": {
   "codemirror_mode": {
    "name": "ipython",
    "version": 2
   },
   "file_extension": ".py",
   "mimetype": "text/x-python",
   "name": "python",
   "nbconvert_exporter": "python",
   "pygments_lexer": "ipython2",
   "version": "2.7.14"
  }
 },
 "nbformat": 4,
 "nbformat_minor": 2
}
